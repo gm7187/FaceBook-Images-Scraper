{
 "cells": [
  {
   "cell_type": "markdown",
   "id": "31cc11c8",
   "metadata": {},
   "source": [
    "# FaceBook Photos Scraper"
   ]
  },
  {
   "cell_type": "markdown",
   "id": "09dadf98",
   "metadata": {},
   "source": [
    "#### Requirements"
   ]
  },
  {
   "cell_type": "code",
   "execution_count": 4,
   "id": "63d068c1",
   "metadata": {},
   "outputs": [],
   "source": [
    "from selenium import webdriver\n",
    "from selenium.webdriver.common.keys import Keys\n",
    "from selenium import webdriver\n",
    "from bs4 import BeautifulSoup \n",
    "import re as re\n",
    "import time\n",
    "import pandas as pd\n",
    "from pandas import ExcelWriter\n",
    "import requests\n",
    "import wget\n",
    "import os"
   ]
  },
  {
   "cell_type": "markdown",
   "id": "55b26c34",
   "metadata": {},
   "source": [
    "### Getting web driver"
   ]
  },
  {
   "cell_type": "code",
   "execution_count": 5,
   "id": "0c279b21",
   "metadata": {},
   "outputs": [],
   "source": [
    "PATH = 'C:/Windows/chromedriver.exe'\n",
    "options=webdriver.ChromeOptions()\n",
    "prefs={'profile.default_content_setting_values.notifications': 2}\n",
    "options.add_experimental_option('prefs',prefs)\n",
    "driver = webdriver.Chrome(PATH,options=options)"
   ]
  },
  {
   "cell_type": "markdown",
   "id": "b913c4f8",
   "metadata": {},
   "source": [
    "### To get Login"
   ]
  },
  {
   "cell_type": "code",
   "execution_count": 6,
   "id": "a3dfa877",
   "metadata": {},
   "outputs": [],
   "source": [
    "driver.get(\"https://www.facebook.com/login\")\n",
    "time.sleep(3)\n",
    "english=driver.find_element_by_xpath('//*[@id=\"pageFooter\"]/ul/li[2]/a').click()\n",
    "email=driver.find_element_by_id('email')\n",
    "email.click()\n",
    "email.send_keys('enter gmail')\n",
    "passw=driver.find_element_by_id('pass')\n",
    "passw.click()\n",
    "passw.send_keys('enter password')\n",
    "login=driver.find_element_by_id('loginbutton').click()"
   ]
  },
  {
   "cell_type": "markdown",
   "id": "5cfd1b55",
   "metadata": {},
   "source": [
    "### Search and SeeAll photos"
   ]
  },
  {
   "cell_type": "code",
   "execution_count": null,
   "id": "fa77b9d3",
   "metadata": {},
   "outputs": [],
   "source": [
    "search=driver.find_element_by_css_selector(\"enter seacrh bar tag sccpath\").click()\n",
    "search.send_keys('search something u want')\n",
    "search.send_keys(Keys.ENTER)\n",
    "photos=driver.find_element_by_css_selector(\"enter photos bar tag csspath\").click()\n",
    "seeMore=driver.find_element_by_css_selector(\"enter seeall bar tag csspath\").click()"
   ]
  },
  {
   "cell_type": "markdown",
   "id": "e6adabaa",
   "metadata": {},
   "source": [
    "### Scroll All over the page"
   ]
  },
  {
   "cell_type": "code",
   "execution_count": null,
   "id": "c8662a5c",
   "metadata": {},
   "outputs": [],
   "source": [
    "last_height = driver.execute_script('return document.body.scrollHeight')\n",
    "for i in range(40):\n",
    "    driver.execute_script('window.scrollTo(0, document.body.scrollHeight);')\n",
    "    time.sleep(6)\n",
    "    new_height = driver.execute_script('return document.body.scrollHeight')\n",
    "    last_height = new_height"
   ]
  },
  {
   "cell_type": "markdown",
   "id": "d48ea7b3",
   "metadata": {},
   "source": [
    "#### Making Soup"
   ]
  },
  {
   "cell_type": "code",
   "execution_count": null,
   "id": "5249e4ee",
   "metadata": {},
   "outputs": [],
   "source": [
    "soup=BeautifulSoup(driver.page_source)"
   ]
  },
  {
   "cell_type": "markdown",
   "id": "886f14a7",
   "metadata": {},
   "source": [
    "### Get All Imgs Urls"
   ]
  },
  {
   "cell_type": "code",
   "execution_count": null,
   "id": "6b6ca2f6",
   "metadata": {},
   "outputs": [],
   "source": [
    "picsDiv=soup.find_all('div',{'class':'l9j0dhe7 soycq5t1'})\n",
    "piclinks=[p.img['src'] for p in picsDiv]\n",
    "imageslist=[]\n",
    "for i in piclinks:\n",
    "    r=requests.get(i)\n",
    "    if r.status_code>200:\n",
    "        print('error')\n",
    "    else:\n",
    "        imageslist.append(i)"
   ]
  },
  {
   "cell_type": "markdown",
   "id": "7806f91f",
   "metadata": {},
   "source": [
    "### Save links To Excel Sheet"
   ]
  },
  {
   "cell_type": "code",
   "execution_count": null,
   "id": "40cd901e",
   "metadata": {},
   "outputs": [],
   "source": [
    "df=pd.DataFrame(imageslist )\n",
    "writer = pd.ExcelWriter('goku.xlsx', engine='xlsxwriter')\n",
    "df.to_excel(writer, sheet_name='sheeet5', index=False)\n",
    "writer.save()"
   ]
  },
  {
   "cell_type": "markdown",
   "id": "baaf3c1c",
   "metadata": {},
   "source": [
    "### Create Folder"
   ]
  },
  {
   "cell_type": "code",
   "execution_count": null,
   "id": "5fd2a47e",
   "metadata": {},
   "outputs": [],
   "source": [
    "path=os.getcwd()\n",
    "path=os.path.join(path,'enter folder name')\n",
    "os.mkdir(path)\n",
    "path"
   ]
  },
  {
   "cell_type": "markdown",
   "id": "c27b8121",
   "metadata": {},
   "source": [
    "### Download Images"
   ]
  },
  {
   "cell_type": "code",
   "execution_count": null,
   "id": "934a2c48",
   "metadata": {},
   "outputs": [],
   "source": [
    "count=0\n",
    "for img in imageslist:\n",
    "    save_as=os.path.join(path,str(count) + '.jpg')\n",
    "    wget.download(img,save_as)\n",
    "    count += 1"
   ]
  }
 ],
 "metadata": {
  "kernelspec": {
   "display_name": "Python 3",
   "language": "python",
   "name": "python3"
  },
  "language_info": {
   "codemirror_mode": {
    "name": "ipython",
    "version": 3
   },
   "file_extension": ".py",
   "mimetype": "text/x-python",
   "name": "python",
   "nbconvert_exporter": "python",
   "pygments_lexer": "ipython3",
   "version": "3.8.10"
  }
 },
 "nbformat": 4,
 "nbformat_minor": 5
}
